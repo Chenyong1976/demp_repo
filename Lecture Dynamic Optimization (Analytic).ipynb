{
 "cells": [
  {
   "cell_type": "markdown",
   "id": "99bf807f",
   "metadata": {},
   "source": [
    "The DP problem:\n",
    "$$ max_{\\{c_t, k_{t+1}\\}_{t=0}^{\\infty}} \\sum_{t=0}^\\infty \\beta^t U[c_t] $$\n",
    "$$ s.t. c_t + k_{t+1} = f(k_t), $$\n",
    "$$k(0)=k_0$$"
   ]
  },
  {
   "cell_type": "markdown",
   "id": "6fad7172",
   "metadata": {},
   "source": [
    "## Convert into Bellman equation\n",
    "Denote the maximan present value of utility as $v(k_0)$\n",
    "$$v(k_0)= max_{\\{c_t, k_{t+1}\\}_{t=0}^{\\infty}} \\sum_{t=0}^\\infty \\beta^t U(c_t) $$\n",
    "$$ s.t. c_t + k_{t+1} = f(k_t), $$\n",
    "$$k(0)=k_0$$\n",
    "Convert this into Bellman equation:\n",
    "$$v(k_0)= max_{\\{c_0, k_{1}\\}}U(c_0) + \\beta v(k_1) $$\n",
    "$$ s.t. c_0 + k_{1} = f(k_0),$$ \n",
    "$$k(0)=k_0$$\n",
    "This applies to all the periods:\n",
    "$$v(k_t)= max_{\\{c_t, k_{t+1}\\}}U(c_t) + \\beta v(k_{t+1}) $$\n",
    "$$ s.t. c_t + k_{t+1} = f(k_t),$$ \n",
    "$$k(0)=k_0$$"
   ]
  },
  {
   "cell_type": "markdown",
   "id": "77e695ef",
   "metadata": {},
   "source": [
    "## Solution\n",
    "Write the Langrangian:\n",
    "$$v(k_t)= max_{\\{c_t, k_{t+1}\\}}\\{U(c_t) + \\beta v(k_{t+1})\\} +\\lambda_t(f(k_t)- c_t - k_{t+1}) $$\n",
    "The optimality conditions (derivatives w.r.t. choice variables):\n",
    "$$[c_t]: \\; 0 = U'(c_t) -\\lambda_t $$\n",
    "$$[k_{t+1}]: 0 = \\beta v'(k_{t+1})-\\lambda_t$$\n",
    "Use Envelop Theorem (derivatives w.r.t. state variables):\n",
    "$$[k_{t}]: v'(k_t) = \\lambda_t f'(k_t)$$\n",
    "Use the state transition equations:\n",
    "$$c_t + k_{t+1} = f(k_t)$$"
   ]
  },
  {
   "cell_type": "markdown",
   "id": "5656d080",
   "metadata": {},
   "source": [
    "Steady State: $c_t=c_{t+1}=\\bar{c}$, $k_t=k_{t+1}=\\bar{k}$, $\\lambda_t=\\lambda_{t+1}=\\bar{\\lambda}$, $v'_t=v'_{t+1}=\\bar{v'}$ for all $t$, "
   ]
  },
  {
   "cell_type": "markdown",
   "id": "2bec554b",
   "metadata": {},
   "source": [
    "These four equations along with some boundary conditions ($k_0$ and end period conditions) stipulate the necessary conditions for the optimal solution.\n",
    "\n",
    "Some observations:\n",
    "$ U'(c_t)=\\lambda_t $ and $\\beta v'(k_{t+1})=\\lambda_t$ give the optimal intertemporal substition condition:\n",
    "$$ U'(c_t)=\\beta v'(k_{t+1}) $$ \n",
    "\n",
    "Let's substitute out $\\lambda$ and $v'()$. From Envolop condition, we get $v'(k_t) = \\lambda_t f'(k_t)$, shift the time index, we get: \n",
    "$$v'(k_{t+1}) = \\lambda_{t+1} f'(k_{t+1}).$$\n",
    "Substitute this into the intertemporal substition condition:\n",
    "$$ U'(c_t)=\\beta \\lambda_{t+1} f'(k_{t+1}).$$ \n",
    "Because $ U'(c_t)=\\lambda_t $, we have another version of intertemporal substition condition:\n",
    "$$ U'(c_t)=\\beta U'(c_{t+1}) f'(k_{t+1}).$$ \n"
   ]
  },
  {
   "cell_type": "markdown",
   "id": "ddeb1a1b",
   "metadata": {},
   "source": [
    "## Special case\n",
    "$f(k_t)= k_t^\\alpha$ and $U(c_t)=ln(c_t)$.\n",
    "\n",
    "So, $f'(k_t)= \\alpha k_t^{\\alpha-1}$, $U'(c_t)=\\frac{1}{c_t}$. Substitute into the intertemporal substition condition:\n",
    "$$ \\frac{1}{c_t}=\\beta \\frac{1}{c_{t+1}} \\big(\\alpha k_{t+1}^{\\alpha-1}\\big).$$\n",
    "That is:\n",
    "$$ \\frac{1}{c_t}=\\alpha\\beta \\frac{1}{c_{t+1}}  k_{t+1}^{\\alpha-1}.$$\n",
    "\n",
    "Then using the state transition equation:\n",
    "$$c_t + k_{t+1} = f(k_t)$$\n"
   ]
  },
  {
   "cell_type": "markdown",
   "id": "254f7efa",
   "metadata": {},
   "source": [
    "$$ \\frac{1}{c_t}=\\alpha\\beta \\frac{1}{c_{t+1}}  k_{t+1}^{\\alpha-1}.$$\n",
    " $$ \\frac{k_{t+1}}{c_t}=\\alpha\\beta \\frac{k_{t+1}^{\\alpha}}{c_{t+1}}  .$$   "
   ]
  },
  {
   "cell_type": "markdown",
   "id": "c19fdfc9",
   "metadata": {},
   "source": [
    "$$1 + \\frac{k_{t+1}}{c_t} = \\frac{k_t^\\alpha}{c_t}$$"
   ]
  },
  {
   "cell_type": "markdown",
   "id": "83e03af6",
   "metadata": {},
   "source": [
    "   $$ \\frac{k_t^\\alpha}{c_t}-1=\\alpha\\beta \\frac{k_{t+1}^{\\alpha}}{c_{t+1}}  .$$  \n",
    "   $$ \\frac{k_t^\\alpha}{c_t}=1+\\alpha\\beta \\frac{k_{t+1}^{\\alpha}}{c_{t+1}}  .$$ \n",
    "     $$ \\frac{k_{t+1}^\\alpha}{c_{t+1}}=1+\\alpha\\beta \\frac{k_{t+2}^{\\alpha}}{c_{t+2}}  .$$ \n",
    "     $$ \\frac{k_t^\\alpha}{c_t}=1+\\alpha\\beta \\big(1+\\alpha\\beta \\frac{k_{t+2}^{\\alpha}}{c_{t+2}} \\big)  .$$ "
   ]
  },
  {
   "cell_type": "markdown",
   "id": "dd81982c",
   "metadata": {},
   "source": [
    "$$ \\frac{k_t^\\alpha}{c_t}=1+\\alpha\\beta +\\big(\\alpha\\beta \\big)^2 \\frac{k_{t+2}^{\\alpha}}{c_{t+2}}  .$$ "
   ]
  },
  {
   "cell_type": "markdown",
   "id": "5696d90c",
   "metadata": {},
   "source": [
    "Solution of policy functions:\n",
    "    $$c_t(k_t)= (1-\\alpha\\beta) k_t^\\alpha$$\n",
    "    $$k_{t+1}(k_t)= \\alpha\\beta k_t^\\alpha$$\n",
    "    "
   ]
  },
  {
   "cell_type": "code",
   "execution_count": null,
   "id": "5eb04171",
   "metadata": {},
   "outputs": [],
   "source": []
  }
 ],
 "metadata": {
  "kernelspec": {
   "display_name": "Python 3 (ipykernel)",
   "language": "python",
   "name": "python3"
  },
  "language_info": {
   "codemirror_mode": {
    "name": "ipython",
    "version": 3
   },
   "file_extension": ".py",
   "mimetype": "text/x-python",
   "name": "python",
   "nbconvert_exporter": "python",
   "pygments_lexer": "ipython3",
   "version": "3.9.13"
  }
 },
 "nbformat": 4,
 "nbformat_minor": 5
}
