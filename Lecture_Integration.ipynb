{
 "cells": [
  {
   "cell_type": "markdown",
   "id": "67948f5b",
   "metadata": {},
   "source": [
    "# Numerical Integration"
   ]
  },
  {
   "cell_type": "code",
   "execution_count": null,
   "id": "5ac396d9",
   "metadata": {},
   "outputs": [],
   "source": [
    "# -*- coding: utf-8 -*-\n",
    "\"\"\"\n",
    "Created on Fri Dec 16 11:52:38 2022\n",
    "\n",
    "@author: chenyon\n",
    "\"\"\"\n",
    "\n",
    "import numpy as np\n",
    "import scipy as sp\n",
    "import sympy as smp\n",
    "import matplotlib.pyplot as plt\n",
    "from scipy.integrate import quad\n",
    "from scipy.integrate import cumulative_trapezoid\n"
   ]
  },
  {
   "cell_type": "markdown",
   "id": "6017f035",
   "metadata": {},
   "source": [
    "## Numerical Methods\n",
    "### Scipy.integrate"
   ]
  },
  {
   "cell_type": "code",
   "execution_count": null,
   "id": "216af4de",
   "metadata": {},
   "outputs": [],
   "source": [
    "f = lambda x: np.exp(-np.sin(x))\n",
    "sol=quad(f,1,2)\n",
    "print(sol)\n",
    "\n",
    "f = lambda x: 1/((a-np.cos(x))**2 +(b-np.sin(x))**2)\n",
    "a, b = 2, 3\n",
    "sol = quad(f, 0, 2*np.pi)\n",
    "print(sol)\n",
    "\n",
    "def f(x,a,b):\n",
    "    return 1/((a-np.cos(x))**2 +(b-np.sin(x))**2)\n",
    "a_array = np.arange(2, 10, 1)\n",
    "b_array = np.arange(2, 10, 1)\n",
    "integrals = [[a,b, quad(f,0, 2*2*np.pi,args=(a,b))[0]] for a in a_array for b in b_array]\n",
    "print(integrals)\n",
    "\n"
   ]
  },
  {
   "cell_type": "code",
   "execution_count": null,
   "id": "aee7130c",
   "metadata": {},
   "outputs": [],
   "source": [
    "# newton-cotes\n",
    "def f(x):\n",
    "    return np.sin(x)\n",
    "\n",
    "a = 0\n",
    "b = np.pi\n",
    "exact = 2\n",
    "for N in [2, 4, 6, 8, 10]:\n",
    "    x = np.linspace(a, b,N+1)\n",
    "    an, B = sp.integrate.newton_cotes(N,1)\n",
    "    dx = (b-a)/N\n",
    "    sol = dx *np.sum(an * f(x))\n",
    "    error = abs(sol-exact)\n",
    "    print('{:2d} {:10.9f} {:.5e}'.format(N,sol,error))\n"
   ]
  },
  {
   "cell_type": "code",
   "execution_count": null,
   "id": "a19a2f19",
   "metadata": {},
   "outputs": [],
   "source": [
    "# Gauss Quadrature\n",
    "f = lambda x: x**8\n",
    "sol = sp.integrate.fixed_quad(f, 0.0, 1.0, n=4)\n",
    "print(\"sol=%5.3f\" % (sol[0]))\n",
    "\n",
    "sol = sp.integrate.quadrature(f, 0.0, 1.0)\n",
    "print('sol=%.3f'.format(sol))\n"
   ]
  },
  {
   "cell_type": "markdown",
   "id": "5177b1b6",
   "metadata": {},
   "source": [
    "### Compecon\n",
    "#### Newton Cotes"
   ]
  },
  {
   "cell_type": "code",
   "execution_count": 6,
   "id": "a2c027d3",
   "metadata": {},
   "outputs": [],
   "source": [
    "import compecon as ce\n",
    "import pandas as pd\n",
    "import numpy as np"
   ]
  },
  {
   "cell_type": "markdown",
   "id": "ed1db7e5",
   "metadata": {},
   "source": [
    "$$ \\int_{-1}^{1} e^{-x}dx=-e^{-x}|_{-1}^1=e^{1}-e^{-1}$$"
   ]
  },
  {
   "cell_type": "code",
   "execution_count": 35,
   "id": "33873bf2",
   "metadata": {},
   "outputs": [
    {
     "name": "stdout",
     "output_type": "stream",
     "text": [
      "error(f)=1.562e-06\n"
     ]
    }
   ],
   "source": [
    "a, b = 0, 1.96\n",
    "n = 101\n",
    "\n",
    "def quad(func, qnw, n):\n",
    "    xi, wi = qnw(n,a,b)\n",
    "    return np.dot(func(xi), wi)\n",
    "\n",
    "def f(x):\n",
    "    #return np.exp(-x)\n",
    "    return 1/np.sqrt(2.*np.pi) * np.exp(-x**2/2.)\n",
    "\n",
    "f_quad = quad(f,ce.qnwtrap, n)+0.5\n",
    "f_true = 0.975\n",
    "f_error = abs(f_quad -f_true)\n",
    "print(f\"error(f)={f_error:.3e}\"  )"
   ]
  },
  {
   "cell_type": "code",
   "execution_count": null,
   "id": "e27fd0d6",
   "metadata": {},
   "outputs": [],
   "source": []
  },
  {
   "cell_type": "code",
   "execution_count": null,
   "id": "5c588237",
   "metadata": {},
   "outputs": [],
   "source": [
    "\n",
    "\n",
    "\n",
    "\n",
    "quadmethods = [ce.qnwtrap, ce.qnwsimp, ce.qnwlege]\n",
    "\n",
    "a, b = -1, 1\n",
    "nlist = [5, 11, 21, 31]\n",
    "N = len(nlist)\n",
    "\n",
    "def quad(func, qnw, n):\n",
    "    xi, wi = qnw(n,a,b)\n",
    "    return np.dot(func(xi), wi)\n",
    "\n",
    "def f(x):\n",
    "    return np.exp(-x)\n",
    "\n",
    "f_quad = quad(f,ce.qnwtrap, 5)\n",
    "f_true = np.exp(1) - 1/np.exp(1)\n",
    "f_error = abs(f_quad -f_true)\n",
    "print(f\"error(f)={f_error:.3e}\"  )\n"
   ]
  },
  {
   "cell_type": "code",
   "execution_count": null,
   "id": "cdb4ab2c",
   "metadata": {},
   "outputs": [],
   "source": [
    "f_quad = np.array([[quad(f, qnw, ni) for qnw in quadmethods] for ni in nlist])\n",
    "f_error= np.log10(np.abs(f_quad/f_true - 1))"
   ]
  },
  {
   "cell_type": "code",
   "execution_count": null,
   "id": "e87a74ad",
   "metadata": {},
   "outputs": [],
   "source": [
    "def g(x):\n",
    "    return np.sqrt(np.abs(x))\n",
    "\n",
    "g_quad = np.array([[quad(g,qnw, ni) for qnw in quadmethods] for ni in nlist])\n",
    "g_true = 4/3\n",
    "g_error = np.log10(np.abs(g_quad/g_true-1))\n",
    "\n",
    "results = pd.DataFrame(np.r_[f_error, g_error])\n",
    "results.columns = ['Trapezoid', 'Simpson', 'Gauss-Legendre']\n",
    "results['Integral'] = [r'$int_{-1}^1e^{-x}dx$']*N + [r'$\\int_{-1}^1\\sqrt{|x|}dx$']*N\n",
    "results['Nodes n'] = nlist*2\n",
    "results.set_index(['Integral', 'Nodes n'], inplace = True)\n",
    "results\n"
   ]
  },
  {
   "cell_type": "markdown",
   "id": "d79a6fb2",
   "metadata": {},
   "source": [
    "#### Gaussian Quadrature"
   ]
  },
  {
   "cell_type": "code",
   "execution_count": null,
   "id": "8c9102b7",
   "metadata": {},
   "outputs": [],
   "source": [
    "# try to verify the code use N(mu,sigma) by qnwnorm(0,sigma):  E(X+mu) = mu using X in N(0, sigma) \n",
    "#1/(sigma*np.sqrt(2*np.pi)) * np.exp(-x**2/(2*sigma**2)+mu*x/sigma**2-mu**2/(2*sigma**2))\n",
    "mu = -1.7\n",
    "sigma = 1.0\n",
    "def f(x):\n",
    "    return  np.exp((2*mu*x-mu**2)/(2*sigma**2)) * x\n",
    "\n",
    "n=5\n",
    "mu0 = 1.0\n",
    "xi0, wi0 =ce.qnwnorm(n,mu0,sigma)\n",
    "Ef = np.dot(f(xi0), wi0)\n",
    "print(f'Ef = {Ef:.3e}')\n"
   ]
  },
  {
   "cell_type": "code",
   "execution_count": null,
   "id": "bbf49e72",
   "metadata": {},
   "outputs": [],
   "source": [
    "\n",
    "# verifying qnw  using Farmer's acrage problem\n",
    "# the multidimensional qnw nodes are slightly different from Mario's version but much bigger than round-off error.\n",
    "n=[5,5]\n",
    "mu = [1., 1.]\n",
    "sigma = [[1., -0.1],[-0.2,1.]]\n",
    "xi, wi =ce.qnwnorm(n,mu,sigma)\n",
    "p = np.exp(xi[0,:])\n",
    "y = np.exp(xi[1,:])\n",
    "ERev = np.dot(wi, np.multiply(p,y))\n",
    "print(f'Expected Revenue is {ERev:.3e}')\n",
    "\n",
    "n=[10,15]\n",
    "mu = [1, 2]\n",
    "sigma = [[0.2, -0.1],[-0.1,0.4]]\n",
    "xi, wi =ce.qnwnorm(n,mu,sigma)\n",
    "p = np.exp(xi[0,:])\n",
    "y = np.exp(xi[1,:])\n",
    "ERev = np.dot(wi, np.multiply(p,y))\n",
    "print(f'Expected Revenue is {ERev:.3e}')\n",
    "\n",
    "\n"
   ]
  },
  {
   "cell_type": "code",
   "execution_count": 1,
   "id": "9277c9a7",
   "metadata": {},
   "outputs": [],
   "source": [
    "#### monte carlo"
   ]
  },
  {
   "cell_type": "code",
   "execution_count": null,
   "id": "699040f0",
   "metadata": {},
   "outputs": [],
   "source": [
    "a = 0\n",
    "b = np.pi\n",
    "N = 1000\n",
    "xrand = np.zeros(N)\n",
    "\n",
    "for i in range(len(xrand)):\n",
    "    xrand[i] = np.random.uniform(a,b)\n",
    "    \n",
    "def func(x):\n",
    "    return np.sin(x)\n",
    "\n",
    "integral = 0.0\n",
    "\n",
    "for i in range(N):\n",
    "    integral += func(xrand[i])\n",
    "    \n",
    "answer = (b-a)/float(N) * integral\n",
    "print(\"The integral from 0 to pi of sin(x) is:\", answer)\n"
   ]
  },
  {
   "cell_type": "markdown",
   "id": "05c4cecd",
   "metadata": {},
   "source": [
    "#### Quasi-Monte Carlo"
   ]
  },
  {
   "cell_type": "code",
   "execution_count": null,
   "id": "58a6ad4a",
   "metadata": {},
   "outputs": [],
   "source": [
    "f1 = lambda x1: np.exp(-x1)\n",
    "f2 = lambda x2: np.cos(x2)**2\n",
    "f = lambda x1, x2: f1(x1) * f2(x2)"
   ]
  },
  {
   "cell_type": "code",
   "execution_count": null,
   "id": "ede43dc0",
   "metadata": {},
   "outputs": [],
   "source": [
    "def quad(method, n):\n",
    "    (x1, x2), w = qnwequi(n,[-1, -1], [1, 1],method)\n",
    "    return w.dot(f(x1, x2))\n",
    "\n",
    "nlist = range(3,7)\n",
    "quadmethods = ['Random', 'Neiderreiter','Weyl']\n",
    "\n",
    "f_quad = np.array([[quad(qnw[0], 10**ni) for qnw in quadmethods] for ni in nlist])\n",
    "f_true = (np.exp(1) - np.exp(-1)) * (1+0.5*np.sin(2))\n",
    "f_error = np.log10(np.abs(f_quad/f_true - 1))\n",
    "\n",
    "results = pd.DataFrame(f_error, columns=quadmethods)\n",
    "results['Nodes'] = ['$10^%d$' % n for n in nlist]\n",
    "results.set_index('Nodes', inplace=True)\n",
    "results"
   ]
  },
  {
   "cell_type": "code",
   "execution_count": null,
   "id": "aee8b63d",
   "metadata": {},
   "outputs": [],
   "source": [
    "# For a good introduction of Quasi-Monte Carlo Sampling with Scipy see: https://blog.scientific-python.org/scipy/qmc-basics/\n",
    "\n",
    "# for 1d quasi monte carlo, see: https://docs.scipy.org/doc/scipy/reference/generated/scipy.stats.qmc.QMCEngine.html#scipy.stats.qmc.QMCEngine\n",
    "# the common distributions are set by  numpy.random.Generator: https://numpy.org/devdocs/reference/random/generator.html#numpy.random.Generator\n",
    "\n",
    "# multivariate normal:\n",
    "from scipy.stats import qmc\n",
    "dist = qmc.MultivariateNormalQMC(mean=[0,5], cov = [[1,0],[0,1]])\n",
    "sample = dist.random(512)\n",
    "_ = plt.scatter(sample[:,0], sample[:,1])\n",
    "plt.show()\n",
    "\n",
    "\n",
    "# 2d integrateion\n",
    "\n",
    "f1 = lambda x1: np.exp(-x1)\n",
    "f2 = lambda x2: np.cos(x2)**2\n",
    "f  = lambda x1, x2: f1(x1)*f2(x2)\n",
    "\n",
    "\n",
    "def quad(method, n):\n",
    "    (x1,x2), w = ce.qnwequi(n, [-1, -1], [1,1], method)\n",
    "    return w.dot(f(x1,x2))\n",
    "\n",
    "n=1000\n",
    "quadmethod ='random'\n",
    "f_quad = quad(quadmethod[0], n)\n",
    "f_true = (np.exp(1)-np.exp(-1)) * (1+0.5*np.sin(2))\n",
    "f_error = np.log10(np.abs(f_quad/f_true -1))\n",
    "print(f'R: f_quad={f_quad:.3e}, f_err ={f_error:.3e}')\n",
    "\n",
    "n=1000\n",
    "quadmethod ='Neiderreiter'\n",
    "f_quad = quad(quadmethod[0], n)\n",
    "f_true = (np.exp(1)-np.exp(-1)) * (1+0.5*np.sin(2))\n",
    "f_error = np.log10(np.abs(f_quad/f_true -1))\n",
    "print(f'N: f_quad={f_quad:.3e}, f_err ={f_error:.3e}')\n",
    "\n",
    "\n",
    "n=1000\n",
    "quadmethod ='Weyl'\n",
    "f_quad = quad(quadmethod[0], n)\n",
    "f_true = (np.exp(1)-np.exp(-1)) * (1+0.5*np.sin(2))\n",
    "f_error = np.log10(np.abs(f_quad/f_true -1))\n",
    "print(f'W: f_quad={f_quad:.3e}, f_err ={f_error:.3e}')\n"
   ]
  },
  {
   "cell_type": "markdown",
   "id": "f6998af3",
   "metadata": {},
   "source": [
    "## Analytical Integration"
   ]
  },
  {
   "cell_type": "code",
   "execution_count": null,
   "id": "a65fb73c",
   "metadata": {},
   "outputs": [],
   "source": [
    "\n",
    "# int sin^3(x)e^{-5x}dx\n",
    "x = smp.symbols('x', real = True)\n",
    "f = smp.sin(x)**3 * smp.exp(-5*x)\n",
    "sol = smp.integrate(f,x)\n",
    "print(sol)\n",
    "\n",
    "a, b = smp.symbols('a b', real=True, positive = True)\n",
    "f    = smp.cos(b * x) * smp.exp(-a*x)\n",
    "sol  = smp.integrate(f,x).simplify()\n",
    "print(sol)\n",
    "\n",
    "f = (1 + smp.sqrt(x))**smp.Rational(1,3) /smp.sqrt(x)\n",
    "sol = smp.integrate(f,x).simplify()\n",
    "print(sol)\n",
    "\n",
    "# definite integral int_0^{ln(4)} e^x/sqrt(e^{2x}+9)dx\n",
    "f = smp.exp(x) / smp.sqrt(smp.exp(2*x) + 9)\n",
    "sol = smp.integrate(f,(x, 0, smp.log(4)))\n",
    "print(sol)\n",
    "\n",
    "# improper integral: int_0^\\infinity 16tan^{-1}(x)/(1+x^2)dx\n",
    "f = 16 * smp.atan(x) / (1+x**2)\n",
    "sol = smp.integrate(f, (x, 0, smp.oo))\n",
    "print(sol)\n",
    "\n",
    "#evaluate as a float\n",
    "print(sol.evalf())\n",
    "\n"
   ]
  }
 ],
 "metadata": {
  "kernelspec": {
   "display_name": "Python 3 (ipykernel)",
   "language": "python",
   "name": "python3"
  },
  "language_info": {
   "codemirror_mode": {
    "name": "ipython",
    "version": 3
   },
   "file_extension": ".py",
   "mimetype": "text/x-python",
   "name": "python",
   "nbconvert_exporter": "python",
   "pygments_lexer": "ipython3",
   "version": "3.9.13"
  }
 },
 "nbformat": 4,
 "nbformat_minor": 5
}
