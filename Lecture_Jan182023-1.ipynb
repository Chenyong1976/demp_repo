{
 "cells": [
  {
   "cell_type": "markdown",
   "id": "c81eb33b",
   "metadata": {},
   "source": [
    "# Lecture Linear Equations"
   ]
  },
  {
   "cell_type": "code",
   "execution_count": 29,
   "id": "6e30242f",
   "metadata": {
    "scrolled": true
   },
   "outputs": [
    {
     "name": "stdout",
     "output_type": "stream",
     "text": [
      "Machine epeilon for single precision :  1.1920929e-07\n",
      "Machine epeilon for double precision :  2.220446049250313e-16\n"
     ]
    }
   ],
   "source": [
    "import numpy as np\n",
    "\n",
    "epss = np.finfo(np.float32).eps\n",
    "print(\"Machine epeilon for single precision : \",epss)\n",
    "epsd = np.finfo(np.float64).eps\n",
    "print(\"Machine epeilon for double precision : \",epsd)\n"
   ]
  },
  {
   "cell_type": "code",
   "execution_count": 35,
   "id": "abbe754f",
   "metadata": {},
   "outputs": [
    {
     "name": "stdout",
     "output_type": "stream",
     "text": [
      "Max real number for double precision :  1.7976931348623157e+308\n"
     ]
    }
   ],
   "source": [
    "\n",
    "realmaxd = np.finfo(np.float64).max\n",
    "print(\"Max real number for double precision : \",realmaxd)\n"
   ]
  },
  {
   "cell_type": "code",
   "execution_count": 34,
   "id": "2b55a263",
   "metadata": {},
   "outputs": [
    {
     "name": "stdout",
     "output_type": "stream",
     "text": [
      "Min real number for double precision :  -1.7976931348623157e+308\n"
     ]
    }
   ],
   "source": [
    "realmind = np.finfo(np.float64).min\n",
    "print(\"Min real number for double precision : \",realmind)\n"
   ]
  },
  {
   "cell_type": "code",
   "execution_count": 40,
   "id": "02916e5b",
   "metadata": {},
   "outputs": [
    {
     "name": "stdout",
     "output_type": "stream",
     "text": [
      "Machine zero for double precision    :  0.0\n"
     ]
    }
   ],
   "source": [
    "realzero = np.finfo(np.float64).tiny\n",
    "print(\"Machine zero for double precision    : \",realzero/2**53)"
   ]
  },
  {
   "cell_type": "code",
   "execution_count": 47,
   "id": "0dba3b96",
   "metadata": {},
   "outputs": [
    {
     "name": "stdout",
     "output_type": "stream",
     "text": [
      "0.0\n"
     ]
    }
   ],
   "source": [
    "print(1+epsd/2-1)"
   ]
  },
  {
   "cell_type": "code",
   "execution_count": 56,
   "id": "ca403bcc",
   "metadata": {},
   "outputs": [
    {
     "name": "stdout",
     "output_type": "stream",
     "text": [
      "[-1.  2.  1.]\n"
     ]
    }
   ],
   "source": [
    "A = np.array([[-3, 2, 3], [-3,2 ,1], [3, 0, 0]])\n",
    "b = np.array([10, 8, -3])\n",
    "x = np.linalg.solve(A,b)\n",
    "print(x)"
   ]
  },
  {
   "cell_type": "code",
   "execution_count": 62,
   "id": "6a38324e",
   "metadata": {},
   "outputs": [],
   "source": [
    "n = 1000\n",
    "A = np.random.rand(n,n)\n",
    "b = np.random.rand(n)\n",
    "x = np.linalg.solve(A,b)\n",
    "#print(x)"
   ]
  },
  {
   "cell_type": "code",
   "execution_count": 55,
   "id": "3e2fbca3",
   "metadata": {},
   "outputs": [
    {
     "name": "stdout",
     "output_type": "stream",
     "text": [
      "[-1.  2.  1.]\n"
     ]
    }
   ],
   "source": [
    "x2 = np.linalg.inv(A) @ b\n",
    "print('solution of Ax=b is\\n')\n",
    "print(x2)"
   ]
  },
  {
   "cell_type": "code",
   "execution_count": 64,
   "id": "5b3b8fd6",
   "metadata": {},
   "outputs": [
    {
     "name": "stdout",
     "output_type": "stream",
     "text": [
      "solution of Ax=b is\n",
      "\n",
      "[[ 1.88868544]\n",
      " [-2.15769452]\n",
      " [ 1.03355709]\n",
      " [ 1.48097895]\n",
      " [-1.01892402]]\n"
     ]
    }
   ],
   "source": [
    "N, M= 5,2\n",
    "AA = np.random.rand(N,N)\n",
    "bb = np.random.rand(N,1)\n",
    "for i in range(N):\n",
    "    for j in range(N):\n",
    "        if abs(i-j)>1:\n",
    "            AA[i,j]=0\n",
    "\n",
    "            \n",
    "x2=np.linalg.solve(AA,bb)\n",
    "print('solution of Ax=b is\\n')\n",
    "print(x2)\n",
    "\n",
    "\n",
    " "
   ]
  },
  {
   "cell_type": "code",
   "execution_count": 65,
   "id": "e5d6114b",
   "metadata": {},
   "outputs": [
    {
     "name": "stdout",
     "output_type": "stream",
     "text": [
      "solution of sparse Ax=b is\n",
      "\n",
      "[ 1.88868544 -2.15769452  1.03355709  1.48097895 -1.01892402]\n"
     ]
    }
   ],
   "source": [
    "import scipy as sci\n",
    "\n",
    "AS = sci.sparse.csc_matrix(AA)\n",
    "xs = sci.sparse.linalg.spsolve(AS,bb)\n",
    "print('solution of sparse Ax=b is\\n')\n",
    "print(xs)"
   ]
  },
  {
   "cell_type": "code",
   "execution_count": 66,
   "id": "926cdf3b",
   "metadata": {},
   "outputs": [
    {
     "name": "stdout",
     "output_type": "stream",
     "text": [
      "[[ 2  0 -1]\n",
      " [-1  3  2]\n",
      " [ 0  1  3]]\n"
     ]
    }
   ],
   "source": [
    "# see Foundations of Applied Mathematics Volume 1 Mathematical Analysis Chapter 15\n",
    "Ai =np.matrix([[2, 0, -1], [-1, 3, 2], [0, 1, 3]])\n",
    "print(Ai)\n",
    "bi = np.matrix([[3],[3], [-1]])\n"
   ]
  },
  {
   "cell_type": "code",
   "execution_count": 67,
   "id": "61074eb8",
   "metadata": {},
   "outputs": [
    {
     "name": "stdout",
     "output_type": "stream",
     "text": [
      "[[2 0 0]\n",
      " [0 3 0]\n",
      " [0 0 3]]\n",
      "[[0.5        0.         0.        ]\n",
      " [0.         0.33333333 0.        ]\n",
      " [0.         0.         0.33333333]]\n"
     ]
    }
   ],
   "source": [
    "Q=np.matrix([[2, 0 , 0], [0, 3, 0],[0, 0, 3]])\n",
    "print(Q)\n",
    "Qi=np.matrix([[1/2, 0 , 0], [0, 1/3, 0],[0, 0, 1/3]])\n",
    "print(Qi)\n"
   ]
  },
  {
   "cell_type": "code",
   "execution_count": 68,
   "id": "1378fa9c",
   "metadata": {},
   "outputs": [
    {
     "name": "stdout",
     "output_type": "stream",
     "text": [
      "solution of Ax=b is\n",
      "\n",
      "[[ 1.]\n",
      " [ 2.]\n",
      " [-1.]]\n"
     ]
    }
   ],
   "source": [
    "xi=np.random.rand(3,1)\n",
    "for i in range(50):\n",
    "#    xi = Qi @ ((Q-Ai) @ xi + bi)\n",
    "    xi = xi + Qi @ (bi- Ai @ xi)\n",
    "print('solution of Ax=b is\\n')\n",
    "print(xi)"
   ]
  },
  {
   "cell_type": "code",
   "execution_count": null,
   "id": "00488061",
   "metadata": {},
   "outputs": [],
   "source": []
  }
 ],
 "metadata": {
  "kernelspec": {
   "display_name": "Python 3 (ipykernel)",
   "language": "python",
   "name": "python3"
  },
  "language_info": {
   "codemirror_mode": {
    "name": "ipython",
    "version": 3
   },
   "file_extension": ".py",
   "mimetype": "text/x-python",
   "name": "python",
   "nbconvert_exporter": "python",
   "pygments_lexer": "ipython3",
   "version": "3.9.13"
  }
 },
 "nbformat": 4,
 "nbformat_minor": 5
}
