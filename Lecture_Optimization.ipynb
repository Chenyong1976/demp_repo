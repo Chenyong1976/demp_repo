{
 "cells": [
  {
   "cell_type": "code",
   "execution_count": 3,
   "id": "c57a9304",
   "metadata": {},
   "outputs": [],
   "source": [
    "import numpy as np\n",
    "from scipy.optimize import minimize"
   ]
  },
  {
   "cell_type": "markdown",
   "id": "e93ed493",
   "metadata": {},
   "source": [
    "## Unconstrained Optimization\n",
    "\n",
    "$$\n",
    "\\max_{x_0, x_1} f(x_0, x_1) = -100 (x_1 - x_0^2)^2 - (1-x_0)^2\n",
    "$$"
   ]
  },
  {
   "cell_type": "code",
   "execution_count": 4,
   "id": "f907e84e",
   "metadata": {},
   "outputs": [],
   "source": [
    "def banana2(x):\n",
    "    return 100 * (x[1]-x[0]**2)**2 + (1 - x[0])**2"
   ]
  },
  {
   "cell_type": "code",
   "execution_count": 5,
   "id": "222a5ff0",
   "metadata": {},
   "outputs": [
    {
     "name": "stdout",
     "output_type": "stream",
     "text": [
      " final_simplex: (array([[1.00003147, 1.00006336],\n",
      "       [0.99999113, 0.99997835],\n",
      "       [0.99999017, 0.99998579]]), array([1.00787169e-09, 1.60805633e-09, 3.05897204e-09]))\n",
      "           fun: 1.0078716929461423e-09\n",
      "       message: 'Optimization terminated successfully.'\n",
      "          nfev: 148\n",
      "           nit: 79\n",
      "        status: 0\n",
      "       success: True\n",
      "             x: array([1.00003147, 1.00006336])\n"
     ]
    }
   ],
   "source": [
    "x0= [1, 0]\n",
    "res = minimize(banana2, x0, method='Nelder-Mead')\n",
    "print(res)"
   ]
  },
  {
   "cell_type": "code",
   "execution_count": null,
   "id": "27898bb4",
   "metadata": {},
   "outputs": [],
   "source": [
    "res = minimize(banana2, x0, method='BFGS')\n",
    "print(res)"
   ]
  },
  {
   "cell_type": "markdown",
   "id": "9b4c3f3a",
   "metadata": {},
   "source": [
    "## Constrained Optimization\n",
    "\n",
    "$$\n",
    "\\max_{x_1, x_2, x_3, x_4} f(x) = -x_1 x_4 (x_1 + x_2 + x_3) - x_3\n",
    "$$\n",
    "subject to\n",
    "$$\n",
    "x_1x_2x_3x_4\\ge 25\n",
    "$$\n",
    "$$\n",
    "x_1^2+x_2^2+x_3^2+x_4^2 = 40\n",
    "$$"
   ]
  },
  {
   "cell_type": "code",
   "execution_count": null,
   "id": "e2badbde",
   "metadata": {},
   "outputs": [],
   "source": [
    "def objective(x): # objective function\n",
    "    x1 = x[0]\n",
    "    x2 = x[1]\n",
    "    x3 = x[2]\n",
    "    x4 = x[3]\n",
    "    return x1*x4*(x1+x2+x3)+x3\n",
    "\n",
    "def constraint1(x): # f(x)>=0\n",
    "    return x[0]*x[1]*x[2]*x[3]-25.0\n",
    "\n",
    "def constraint2(x): # g(x)=0\n",
    "    sum_sq = 40\n",
    "    for i in range(4):\n",
    "        sum_sq = sum_sq+x[i]**2\n",
    "        return sum_sq"
   ]
  },
  {
   "cell_type": "code",
   "execution_count": null,
   "id": "6e8d8b23",
   "metadata": {},
   "outputs": [],
   "source": [
    "b = (1.0, 5.0)\n",
    "bnds =(b,b,b,b)\n",
    "con1 = {'type': 'ineq', 'fun': constraint1}\n",
    "con2 = {'type': 'eq', 'fun': constraint2}\n",
    "cons = [con1, con2]"
   ]
  },
  {
   "cell_type": "code",
   "execution_count": null,
   "id": "f542d478",
   "metadata": {},
   "outputs": [],
   "source": [
    "x0 = [1,5,5,1]\n",
    "print(objective(x0))\n",
    "sol = minimize(objective, x0, method='SLSQP',\\\n",
    "               bounds=bnds, constraints=cons)\n",
    "print(sol)    \n",
    "print(sol.x)"
   ]
  },
  {
   "cell_type": "code",
   "execution_count": null,
   "id": "86ecc7ea",
   "metadata": {},
   "outputs": [],
   "source": [
    "sol = minimize(objective, x0, method='Trust-Constr',\\\n",
    "               bounds=bnds, constraints=cons)\n",
    "print(sol)    \n",
    "print(sol.x) "
   ]
  }
 ],
 "metadata": {
  "kernelspec": {
   "display_name": "Python 3 (ipykernel)",
   "language": "python",
   "name": "python3"
  },
  "language_info": {
   "codemirror_mode": {
    "name": "ipython",
    "version": 3
   },
   "file_extension": ".py",
   "mimetype": "text/x-python",
   "name": "python",
   "nbconvert_exporter": "python",
   "pygments_lexer": "ipython3",
   "version": "3.9.13"
  }
 },
 "nbformat": 4,
 "nbformat_minor": 5
}
