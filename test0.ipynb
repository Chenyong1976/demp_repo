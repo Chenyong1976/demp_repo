{
 "cells": [
  {
   "cell_type": "code",
   "execution_count": 1,
   "id": "11ca6af3",
   "metadata": {},
   "outputs": [
    {
     "name": "stdout",
     "output_type": "stream",
     "text": [
      "Machine epeilon for single precision :  1.1920929e-07\n",
      "Machine epeilon for double precision :  2.220446049250313e-16\n"
     ]
    }
   ],
   "source": [
    "import numpy as np\n",
    "\n",
    "epss = np.finfo(np.float32).eps\n",
    "print(\"Machine epeilon for single precision : \",epss)\n",
    "epsd = np.finfo(np.float64).eps\n",
    "print(\"Machine epeilon for double precision : \",epsd)"
   ]
  },
  {
   "cell_type": "code",
   "execution_count": null,
   "id": "2c8eff53",
   "metadata": {},
   "outputs": [],
   "source": []
  }
 ],
 "metadata": {
  "kernelspec": {
   "display_name": "Python 3 (ipykernel)",
   "language": "python",
   "name": "python3"
  },
  "language_info": {
   "codemirror_mode": {
    "name": "ipython",
    "version": 3
   },
   "file_extension": ".py",
   "mimetype": "text/x-python",
   "name": "python",
   "nbconvert_exporter": "python",
   "pygments_lexer": "ipython3",
   "version": "3.11.4"
  }
 },
 "nbformat": 4,
 "nbformat_minor": 5
}
